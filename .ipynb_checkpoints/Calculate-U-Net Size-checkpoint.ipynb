{
 "cells": [
  {
   "cell_type": "markdown",
   "metadata": {},
   "source": [
    "### U-Net network architecture restricts the input size to a specific set of sizes, that could be derived from an algebraic formula.\n",
    "\n",
    "At each level of the network - when we apply 2 times conv 3x3 we loose 4 pixels due to network padding, at every max pooling layer we halve the size of the previous layer output, at every up-convolution we double previous layer's output. This operations results in the input size constrain, that in this notebook is being addressed.\n",
    "\n",
    "In the diagram below (source: https://lmb.informatik.uni-freiburg.de/people/ronneber/u-net/) the input size is equal to 572x572 the output size on the other hand is equal to 388x388, we lost on the way 184 pixels."
   ]
  },
  {
   "attachments": {},
   "cell_type": "markdown",
   "metadata": {},
   "source": [
    "<img src=\"attachment:image.png\" width=\"800\">"
   ]
  },
  {
   "cell_type": "code",
   "execution_count": 41,
   "metadata": {},
   "outputs": [],
   "source": [
    "def cut_divide(x):\n",
    "    return (x - 4)/2\n",
    "\n",
    "def cut_multiply(x):\n",
    "    return (x - 4)*2\n",
    "\n",
    "def cut(x):\n",
    "    return x-4\n",
    "\n",
    "def calculate_unet_input_sizes(lower_bound, upper_bound):\n",
    "    \"\"\"This function finds all possible input sizes to the U-Net network \n",
    "    that won't cause the network to crush because of decimal rest from the division\n",
    "    \n",
    "    args:\n",
    "    lower_bound - minimal input size that the image could be cropped to\n",
    "    upper_bound - maximal input size that the image could be padded to\n",
    "    \n",
    "    return:\n",
    "    tentative_sizes - list of possible sizes \n",
    "    \n",
    "    (assuming network accept square-like images as in the original paper (572x572))\n",
    "    \"\"\"\n",
    "    tentative_sizes = []\n",
    "    for i in range(lower_bound, upper_bound):\n",
    "        x1 = cut_divide(float(i))\n",
    "        x2 = cut_divide(x1)\n",
    "        x3 = cut_divide(x2)    \n",
    "        x4 = cut_divide(x3)    \n",
    "        x5 = cut_multiply(x4)\n",
    "        x6 = cut_multiply(x5)\n",
    "        x7 = cut_multiply(x6)\n",
    "        x8 = cut_multiply(x7)\n",
    "        x9 = cut(x8)\n",
    "        \n",
    "        if cut(float(i)).is_integer() and x1.is_integer() and cut(x1).is_integer() and x2.is_integer() and cut(x2).is_integer() and x3.is_integer() and cut(x3).is_integer() and x4.is_integer():\n",
    "            if cut(x4).is_integer() and x5.is_integer() and cut(x5).is_integer() and x6.is_integer() and cut(x6).is_integer() and x7.is_integer() and cut(x7).is_integer() and x8.is_integer() and cut(x8).is_integer() and x9.is_integer():\n",
    "                print(i)\n",
    "                tentative_sizes.append(i)\n",
    "    return tentative_sizes"
   ]
  },
  {
   "cell_type": "code",
   "execution_count": 43,
   "metadata": {},
   "outputs": [
    {
     "name": "stdout",
     "output_type": "stream",
     "text": [
      "300\n",
      "316\n",
      "332\n",
      "348\n",
      "364\n",
      "380\n",
      "396\n"
     ]
    }
   ],
   "source": [
    "sizes = calculate_unet_input_sizes(300,400)"
   ]
  },
  {
   "cell_type": "markdown",
   "metadata": {},
   "source": [
    "                                                    Notes\n",
    "\n",
    "------------------------------------------------------\n",
    "\n",
    "#### When we look at the sizes of each layer after each operation applied to the image in the original article we can see that the sizes are all integers. Combining that with the information that network crushes for some sizes like (352,352) or (320,320), we can see that these sizes after application of the U-Net operations are not integers, this information will be used to find the potential candidates for the input sizes to the U-Net network."
   ]
  },
  {
   "cell_type": "code",
   "execution_count": 44,
   "metadata": {},
   "outputs": [
    {
     "name": "stdout",
     "output_type": "stream",
     "text": [
      "568.0 284.0\n",
      "280.0 140.0\n",
      "136.0 68.0\n",
      "64.0 32.0\n"
     ]
    }
   ],
   "source": [
    "x=572.0\n",
    "x1 = cut_devide(x)\n",
    "print(cut(x), x1)\n",
    "x2 = cut_devide(x1)\n",
    "print(cut(x1), x2)\n",
    "x3 = cut_devide(x2)\n",
    "print(cut(x2), x3)\n",
    "x4 = cut_devide(x3)\n",
    "print(cut(x3), x4)"
   ]
  },
  {
   "cell_type": "code",
   "execution_count": 45,
   "metadata": {},
   "outputs": [
    {
     "name": "stdout",
     "output_type": "stream",
     "text": [
      "28.0 56.0\n",
      "52.0 104.0\n",
      "100.0 200.0\n",
      "196.0 392.0\n",
      "388.0 388.0\n"
     ]
    }
   ],
   "source": [
    "x5 = cut_multiply(x4)\n",
    "print(cut(x4), x5)\n",
    "x6 = cut_multiply(x5)\n",
    "print(cut(x5), x6)\n",
    "x7 = cut_multiply(x6)\n",
    "print(cut(x6), x7)\n",
    "x8 = cut_multiply(x7)\n",
    "print(cut(x7), x8)\n",
    "x9 = cut(x8)\n",
    "print(cut(x8), x9)"
   ]
  }
 ],
 "metadata": {
  "kernelspec": {
   "display_name": "Python 3",
   "language": "python",
   "name": "python3"
  },
  "language_info": {
   "codemirror_mode": {
    "name": "ipython",
    "version": 3
   },
   "file_extension": ".py",
   "mimetype": "text/x-python",
   "name": "python",
   "nbconvert_exporter": "python",
   "pygments_lexer": "ipython3",
   "version": "3.8.8"
  }
 },
 "nbformat": 4,
 "nbformat_minor": 2
}
