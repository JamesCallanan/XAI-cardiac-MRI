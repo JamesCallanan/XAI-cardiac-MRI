{
 "cells": [
  {
   "cell_type": "markdown",
   "metadata": {},
   "source": [
    "patch size: 352 × 352 \n",
    "initial features: 48\n",
    "loss function: multiclass dice loss\n",
    "one layer network: 2D convolution -> batch normalization -> leaky ReLU nonlinearity (alpha=0.01)\n",
    "optimizer: Adam\n",
    "initial learning rate:  5 · 10−4\n",
    "decrease rate for lr/per epoch:  0.98\n",
    "number of batches: 100\n",
    "batch size: 10\n",
    "data augumentation: mirroring along the x and y axes, random rotations, gamma-correction and elastic deformations\n",
    "perturbation: all slices within the training batch were perturbed with a probability\n",
    "of 10% and a random offset drawn from N (0, 20)\n",
    "\n",
    "\n",
    "data preprocessing: 1.25 × 1.25 × Zorig mm per voxel (for 2D UNet) to account\n",
    "for varying spatial resolutions. The grey level information of every image was\n",
    "normalized to zero-mean and unit-variance.\n",
    "\n",
    "\n",
    "\n",
    "deep supervision: \"Deep supervision (as in [12]) is implemented by\n",
    "generating low resolution segmentation outputs via 1 × 1 × 1 convolutions before\n",
    "each of the last two upscaling operations, which are upscaled and aggregated for\n",
    "the final segmentation.\"\n",
    "\n",
    "In the u-net diagram there are some connections that aggregates the outputs of last layers ...???\n"
   ]
  }
 ],
 "metadata": {
  "kernelspec": {
   "display_name": "Python 3",
   "language": "python",
   "name": "python3"
  },
  "language_info": {
   "codemirror_mode": {
    "name": "ipython",
    "version": 3
   },
   "file_extension": ".py",
   "mimetype": "text/x-python",
   "name": "python",
   "nbconvert_exporter": "python",
   "pygments_lexer": "ipython3",
   "version": "3.8.8"
  }
 },
 "nbformat": 4,
 "nbformat_minor": 2
}
