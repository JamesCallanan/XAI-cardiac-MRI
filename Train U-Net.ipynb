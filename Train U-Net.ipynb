{
 "cells": [
  {
   "cell_type": "code",
   "execution_count": 1,
   "metadata": {},
   "outputs": [],
   "source": [
    "import pytorch_unet\n",
    "from batchgenerators.dataloading import DataLoaderBase\n",
    "import numpy as np\n",
    "from batchgenerators.augmentations.utils import resize_image_by_padding, random_crop_3D_image_batched, \\\n",
    "    random_crop_2D_image_batched, center_crop_3D_image_batched\n",
    "\n",
    "# source -> https://github.com/MIC-DKFZ/ACDC2017\n",
    "class BatchGenerator_2D(DataLoaderBase):\n",
    "    def __init__(self, data, BATCH_SIZE, PATCH_SIZE=(256, 256), num_batches=None, seed=False):\n",
    "        self.PATCH_SIZE = PATCH_SIZE\n",
    "        DataLoaderBase.__init__(self, data, BATCH_SIZE, num_batches=num_batches, seed=seed)\n",
    "\n",
    "    def generate_train_batch(self):\n",
    "        data = np.zeros((self.BATCH_SIZE, 1, self.PATCH_SIZE[0], self.PATCH_SIZE[1]), dtype=np.float32)\n",
    "        seg = np.zeros((self.BATCH_SIZE, 1, self.PATCH_SIZE[0], self.PATCH_SIZE[1]), dtype=np.float32)\n",
    "        types = np.random.choice(['ed', 'es'], self.BATCH_SIZE, True)\n",
    "        patients = np.random.choice(list(self._data.keys()), self.BATCH_SIZE, True)\n",
    "        pathologies = []\n",
    "        for nb in range(self.BATCH_SIZE):\n",
    "            shp = self._data[patients[nb]][types[nb]+'_data'].shape\n",
    "            slice_id = np.random.choice(shp[0])\n",
    "            tmp_data = resize_image_by_padding(self._data[patients[nb]][types[nb]+'_data'][slice_id], (max(shp[1],\n",
    "                                                self.PATCH_SIZE[0]), max(shp[2], self.PATCH_SIZE[1])), pad_value=0)\n",
    "            tmp_seg = resize_image_by_padding(self._data[patients[nb]][types[nb]+'_gt'][slice_id], (max(shp[1],\n",
    "                                                self.PATCH_SIZE[0]), max(shp[2], self.PATCH_SIZE[1])), pad_value=0)\n",
    "\n",
    "            # not the most efficient way but whatever...\n",
    "            tmp = np.zeros((1, 2, tmp_data.shape[0], tmp_data.shape[1]))\n",
    "            tmp[0, 0] = tmp_data\n",
    "            tmp[0, 1] = tmp_seg\n",
    "            tmp = random_crop_2D_image_batched(tmp, self.PATCH_SIZE)\n",
    "            data[nb, 0] = tmp[0, 0]\n",
    "            seg[nb, 0] = tmp[0, 1]\n",
    "            pathologies.append(self._data[patients[nb]]['pathology'])\n",
    "        return {'data':data, 'seg':seg, 'types':types, 'patient_ids': patients, 'pathologies':pathologies}\n"
   ]
  },
  {
   "cell_type": "code",
   "execution_count": 2,
   "metadata": {},
   "outputs": [],
   "source": [
    "from batchgenerators.dataloading import MultiThreadedAugmenter, SingleThreadedAugmenter\n",
    "from batchgenerators.transforms import Compose, RndTransform\n",
    "from batchgenerators.transforms import SpatialTransform\n",
    "from batchgenerators.transforms import MirrorTransform\n",
    "\n",
    "from batchgenerators.transforms import GammaTransform, ConvertSegToOnehotTransform\n",
    "from batchgenerators.transforms import RandomCropTransform\n",
    "\n",
    "\n",
    "# source -> https://github.com/MIC-DKFZ/ACDC2017\n",
    "def create_data_gen_train(patient_data_train, BATCH_SIZE, PATCH_SIZE, NUM_BATCHES, num_classes,\n",
    "                                  num_workers=1, num_cached_per_worker=2,\n",
    "                                  do_elastic_transform=False, alpha=(0., 1300.), sigma=(10., 13.),\n",
    "                                  do_rotation=False, a_x=(0., 2*np.pi), a_y=(0., 2*np.pi), a_z=(0., 2*np.pi),\n",
    "                                  do_scale=True, scale_range=(0.75, 1.25), seeds=None):\n",
    "    if seeds is None:\n",
    "        seeds = [None]*num_workers\n",
    "    elif seeds == 'range':\n",
    "        seeds = range(num_workers)\n",
    "    else:\n",
    "        assert len(seeds) == num_workers\n",
    "    data_gen_train = BatchGenerator_2D(patient_data_train, BATCH_SIZE, num_batches=NUM_BATCHES, seed=False,\n",
    "                                       PATCH_SIZE=PATCH_SIZE)\n",
    "\n",
    "    tr_transforms = []\n",
    "    tr_transforms.append(MirrorTransform((0, 1)))\n",
    "    tr_transforms.append(RndTransform(SpatialTransform(PATCH_SIZE, list(np.array(PATCH_SIZE)//2),\n",
    "                                                       do_elastic_transform, alpha,\n",
    "                                                       sigma,\n",
    "                                                       do_rotation, a_x, a_y,\n",
    "                                                       a_z,\n",
    "                                                       do_scale, scale_range, 'constant', 0, 3, 'constant',\n",
    "                                                       0, 0,\n",
    "                                                       random_crop=False), prob=0.67,\n",
    "                                      alternative_transform=RandomCropTransform(PATCH_SIZE)))\n",
    "    tr_transforms.append(ConvertSegToOnehotTransform(range(num_classes), seg_channel=0, output_key='seg_onehot'))\n",
    "\n",
    "    #tr_composed = Compose(tr_transforms)\n",
    "    tr_composed = Compose([ConvertSegToOnehotTransform(range(num_classes), seg_channel=0, output_key='seg_onehot')])\n",
    "\n",
    "#     tr_mt_gen = MultiThreadedAugmenter(data_gen_train, tr_composed, num_workers, num_cached_per_worker, seeds)\n",
    "#     tr_mt_gen.restart()\n",
    "    tr_mt_gen = SingleThreadedAugmenter(data_gen_train, tr_composed) \n",
    "    return tr_mt_gen"
   ]
  },
  {
   "cell_type": "code",
   "execution_count": 3,
   "metadata": {},
   "outputs": [],
   "source": [
    "cf = {\n",
    "    'BATCH_SIZE': 4,\n",
    "    'INPUT_PATCH_SIZE': (348, 348), # calculated using notebook: Calculate-U-Net Size\n",
    "    'num_classes': 4,\n",
    "    'EXPERIMENT_NAME': 'Test-Implementation',\n",
    "    'results_dir': './results-experiment',\n",
    "    'n_epochs': 5,\n",
    "    'lr_decay': np.float32(0.985),\n",
    "    'base_lr': np.float32(0.0005),\n",
    "    'n_batches_per_epoch': 10,\n",
    "    'n_test_batches': 10,\n",
    "    'n_feedbacks_per_epoch': 10,\n",
    "    'num_workers': 6,\n",
    "    'workers_seeds': [123, 1234, 12345, 123456, 1234567, 12345678],\n",
    "    'weight_decay': 1e-5,\n",
    "    'n_input_channels': 1\n",
    "}"
   ]
  },
  {
   "cell_type": "code",
   "execution_count": 4,
   "metadata": {},
   "outputs": [],
   "source": [
    "import os\n",
    "\n",
    "BATCH_SIZE = cf['BATCH_SIZE']\n",
    "INPUT_PATCH_SIZE = cf['INPUT_PATCH_SIZE']\n",
    "num_classes = cf['num_classes']\n",
    "EXPERIMENT_NAME = cf['EXPERIMENT_NAME']\n",
    "results_dir = cf['results_dir']\n",
    "if not os.path.isdir(results_dir):\n",
    "    os.mkdir(results_dir)\n",
    "n_epochs = cf['n_epochs']\n",
    "lr_decay = cf['lr_decay']\n",
    "base_lr = cf['base_lr']\n",
    "n_batches_per_epoch = cf['n_batches_per_epoch']\n",
    "n_test_batches = cf['n_test_batches']\n",
    "n_feedbacks_per_epoch = cf['n_feedbacks_per_epoch']\n",
    "num_workers = cf['num_workers']\n",
    "workers_seeds = cf['workers_seeds']"
   ]
  },
  {
   "cell_type": "code",
   "execution_count": 5,
   "metadata": {},
   "outputs": [],
   "source": [
    "from collections import defaultdict\n",
    "import torch.nn.functional as F\n",
    "from loss import dice_loss\n",
    "\n",
    "# source -> https://github.com/usuyama/pytorch-unet\n",
    "def calc_loss(pred, target, metrics, bce_weight=0.5):\n",
    "    #print(target)\n",
    "    bce = F.binary_cross_entropy_with_logits(pred, target)\n",
    "        \n",
    "    pred = F.sigmoid(pred)\n",
    "    \n",
    "    dice = dice_loss(pred, target)\n",
    "    \n",
    "    loss = bce * bce_weight + dice * (1 - bce_weight)\n",
    "    \n",
    "    metrics['bce'] += bce.data.cpu().numpy() * target.size(0)\n",
    "    metrics['dice'] += dice.data.cpu().numpy() * target.size(0)\n",
    "    metrics['loss'] += loss.data.cpu().numpy() * target.size(0)\n",
    "    \n",
    "    return loss\n",
    "\n",
    "# source -> https://github.com/usuyama/pytorch-unet\n",
    "def print_metrics(metrics, epoch_samples, phase):    \n",
    "    outputs = []\n",
    "    for k in metrics.keys():\n",
    "        outputs.append(\"{}: {:4f}\".format(k, metrics[k] / epoch_samples))\n",
    "        \n",
    "    print(\"{}: {}\".format(phase, \", \".join(outputs)))    \n",
    "\n",
    "\n",
    "# adapted from -> https://github.com/usuyama/pytorch-unet    \n",
    "def train_model(model, optimizer, scheduler, dataloaders, num_epochs=25):\n",
    "    best_model_wts = copy.deepcopy(model.state_dict())\n",
    "    best_loss = 1e10\n",
    "    train_history = []\n",
    "    val_history = []\n",
    "    for epoch in range(num_epochs):\n",
    "        print('Epoch {}/{}'.format(epoch, num_epochs - 1))\n",
    "        print('-' * 10)\n",
    "        \n",
    "        since = time.time()\n",
    "\n",
    "        # Each epoch has a training and validation phase\n",
    "        for phase in ['train', 'val']:\n",
    "            if phase == 'train':\n",
    "                scheduler.step()\n",
    "                for param_group in optimizer.param_groups:\n",
    "                    print(\"LR\", param_group['lr'])\n",
    "                    \n",
    "                model.train()  # Set model to training mode\n",
    "            else:\n",
    "                model.eval()   # Set model to evaluate mode\n",
    "\n",
    "            metrics = defaultdict(float)\n",
    "            epoch_samples = 0\n",
    "            \n",
    "            for i, data_dict in enumerate(dataloaders[phase]):\n",
    "                \n",
    "                inputs = torch.from_numpy(data_dict['data']).to(device)\n",
    "                types = data_dict['types']\n",
    "                patient_ids = data_dict['patient_ids']\n",
    "                pathologies = data_dict['pathologies']\n",
    "                seg_onehot = data_dict['seg_onehot']\n",
    "                labels = torch.from_numpy(data_dict['seg_onehot']).to(device) # we need an output encoded into 4 layers          \n",
    "\n",
    "                # zero the parameter gradients\n",
    "                optimizer.zero_grad()\n",
    "\n",
    "                # forward\n",
    "                # track history if only in train\n",
    "                with torch.set_grad_enabled(phase == 'train'):\n",
    "                    outputs = model(inputs)\n",
    "                    labels = labels[:,:,92:INPUT_PATCH_SIZE[0]-92,92:INPUT_PATCH_SIZE[1]-92]\n",
    "                    loss = calc_loss(outputs, labels, metrics)\n",
    "                    if i % 250 == 0:\n",
    "                        print(loss)\n",
    "                    # backward + optimize only if in training phase\n",
    "                    if phase == 'train':\n",
    "                        loss.backward()\n",
    "                        optimizer.step()\n",
    "\n",
    "                # statistics\n",
    "                epoch_samples += inputs.size(0)\n",
    "\n",
    "            print_metrics(metrics, epoch_samples, phase)\n",
    "            epoch_loss = metrics['loss'] / epoch_samples\n",
    "            if phase == 'train':\n",
    "                train_history.append(epoch_loss)\n",
    "            elif phase == 'val':\n",
    "                val_history.append(epoch_loss)            \n",
    "\n",
    "            # deep copy the model\n",
    "            if phase == 'val' and epoch_loss < best_loss:\n",
    "                print(\"saving best model\")\n",
    "                best_loss = epoch_loss\n",
    "                best_model_wts = copy.deepcopy(model.state_dict())\n",
    "\n",
    "        time_elapsed = time.time() - since\n",
    "        print('{:.0f}m {:.0f}s'.format(time_elapsed // 60, time_elapsed % 60))\n",
    "    print('Best val loss: {:4f}'.format(best_loss))\n",
    "\n",
    "    # load best model weights\n",
    "    model.load_state_dict(best_model_wts)\n",
    "    return model, train_history, val_history"
   ]
  },
  {
   "cell_type": "code",
   "execution_count": 6,
   "metadata": {},
   "outputs": [],
   "source": [
    "from sklearn.model_selection import KFold\n",
    "\n",
    "# source -> https://github.com/MIC-DKFZ/ACDC2017\n",
    "def get_split(fold, seed=12345):\n",
    "    # this is seeded, will be identical each time\n",
    "    kf = KFold(n_splits=5, shuffle=True, random_state=seed)\n",
    "    all_keys = np.arange(1, 101)\n",
    "    splits = kf.split(all_keys)\n",
    "    for i, (train_idx, test_idx) in enumerate(splits):\n",
    "        train_keys = all_keys[train_idx]\n",
    "        test_keys = all_keys[test_idx]\n",
    "        if i == fold:\n",
    "            break\n",
    "    return train_keys, test_keys"
   ]
  },
  {
   "cell_type": "code",
   "execution_count": 7,
   "metadata": {
    "scrolled": false
   },
   "outputs": [
    {
     "name": "stdout",
     "output_type": "stream",
     "text": [
      "cuda:0\n"
     ]
    },
    {
     "name": "stderr",
     "output_type": "stream",
     "text": [
      "/home/adri/Studies/PhD_UCD/notebooks/batchgenerators/dataloading/data_loader.py:53: DeprecationWarning: This DataLoader will soon be removed. Migrate everything to SlimDataLoaderBase now!\n",
      "  warn(\"This DataLoader will soon be removed. Migrate everything to SlimDataLoaderBase now!\", DeprecationWarning)\n",
      "/home/adri/Studies/PhD_UCD/notebooks/batchgenerators/dataloading/data_loader.py:58: UserWarning: We currently strongly discourage using num_batches != None! That does not seem to work properly\n",
      "  warn(\"We currently strongly discourage using num_batches != None! That does not seem to work properly\")\n",
      "/home/adri/Studies/PhD_UCD/notebooks/batchgenerators/dataloading/data_loader.py:53: DeprecationWarning: This DataLoader will soon be removed. Migrate everything to SlimDataLoaderBase now!\n",
      "  warn(\"This DataLoader will soon be removed. Migrate everything to SlimDataLoaderBase now!\", DeprecationWarning)\n",
      "/home/adri/Studies/PhD_UCD/notebooks/batchgenerators/dataloading/data_loader.py:58: UserWarning: We currently strongly discourage using num_batches != None! That does not seem to work properly\n",
      "  warn(\"We currently strongly discourage using num_batches != None! That does not seem to work properly\")\n",
      "/home/adri/Studies/PhD_UCD/notebooks/batchgenerators/transforms/abstract_transforms.py:53: DeprecationWarning: This is deprecated. All applicable transfroms now have a p_per_sample argument which allows batchgenerators to do or not do an augmentation on a per-sample basis instead of the entire batch\n",
      "  DeprecationWarning)\n",
      "/home/adri/anaconda3/envs/python3.6/lib/python3.6/site-packages/torch/nn/functional.py:1386: UserWarning: nn.functional.sigmoid is deprecated. Use torch.sigmoid instead.\n",
      "  warnings.warn(\"nn.functional.sigmoid is deprecated. Use torch.sigmoid instead.\")\n"
     ]
    },
    {
     "name": "stdout",
     "output_type": "stream",
     "text": [
      "Epoch 0/4\n",
      "----------\n",
      "LR 0.0001\n",
      "tensor(0.7370, device='cuda:0', grad_fn=<AddBackward0>)\n",
      "train: bce: 0.382130, dice: 0.756698, loss: 0.569414\n",
      "tensor(0.4667, device='cuda:0')\n",
      "val: bce: 0.181692, dice: 0.705315, loss: 0.443503\n",
      "saving best model\n",
      "1m 4s\n",
      "Epoch 1/4\n",
      "----------\n",
      "LR 0.0001\n",
      "tensor(0.4586, device='cuda:0', grad_fn=<AddBackward0>)\n",
      "train: bce: 0.165456, dice: 0.682150, loss: 0.423803\n",
      "tensor(0.4033, device='cuda:0')\n",
      "val: bce: 0.161305, dice: 0.660609, loss: 0.410957\n",
      "saving best model\n",
      "1m 39s\n",
      "Epoch 2/4\n",
      "----------\n",
      "LR 0.0001\n",
      "tensor(0.3925, device='cuda:0', grad_fn=<AddBackward0>)\n",
      "train: bce: 0.161996, dice: 0.628321, loss: 0.395158\n",
      "tensor(0.3846, device='cuda:0')\n",
      "val: bce: 0.143687, dice: 0.583600, loss: 0.363643\n",
      "saving best model\n",
      "1m 41s\n",
      "Epoch 3/4\n",
      "----------\n",
      "LR 0.0001\n",
      "tensor(0.3088, device='cuda:0', grad_fn=<AddBackward0>)\n",
      "train: bce: 0.117665, dice: 0.511735, loss: 0.314700\n",
      "tensor(0.2980, device='cuda:0')\n",
      "val: bce: 0.126083, dice: 0.482696, loss: 0.304389\n",
      "saving best model\n",
      "1m 45s\n",
      "Epoch 4/4\n",
      "----------\n",
      "LR 0.0001\n",
      "tensor(0.2206, device='cuda:0', grad_fn=<AddBackward0>)\n",
      "train: bce: 0.123123, dice: 0.462289, loss: 0.292706\n",
      "tensor(0.2596, device='cuda:0')\n",
      "val: bce: 0.107468, dice: 0.451970, loss: 0.279719\n",
      "saving best model\n",
      "1m 46s\n",
      "Best val loss: 0.279719\n"
     ]
    }
   ],
   "source": [
    "import torch\n",
    "import torch.optim as optim\n",
    "from torch.optim import lr_scheduler\n",
    "import time\n",
    "import copy\n",
    "from preprocessing import load_dataset\n",
    "import unet\n",
    "\n",
    "device = torch.device(\"cuda:0\" if torch.cuda.is_available() else \"cpu\")\n",
    "print(device)\n",
    "\n",
    "num_class = cf['num_classes']\n",
    "\n",
    "opts = {'duke_unet_opts':{\"n_input_channels\":cf['n_input_channels'],\"n_classes\":cf['num_classes']}}\n",
    "\n",
    "model = unet.Unet(opts).to(device)\n",
    "\n",
    "# Observe that all parameters are being optimized\n",
    "optimizer_ft = optim.Adam(model.parameters(), lr=1e-4)\n",
    "\n",
    "exp_lr_scheduler = lr_scheduler.StepLR(optimizer_ft, step_size=25, gamma=0.1)\n",
    "\n",
    "\n",
    "fold = 0\n",
    "train_keys, test_keys = get_split(fold)\n",
    "train_data = load_dataset(train_keys)\n",
    "\n",
    "data = load_dataset()\n",
    "nb_entities = len(data)\n",
    "types = [x for x in data[1].keys() if 'data' in x.split('_')]\n",
    "nb_samples = []\n",
    "for typ in types:\n",
    "    nb_samples.append([np.shape(data[x][typ])[0] for x in range(1,nb_entities+1)])\n",
    "max_samples = max(nb_samples[0]+nb_samples[1])\n",
    "min_samples = min(nb_samples[0]+nb_samples[1])\n",
    "avg_samples = np.ceil(np.mean(nb_samples[0]+nb_samples[1]))\n",
    "all_samples_without_transformation = nb_entities * len(types) * avg_samples\n",
    "ALL_SAMPLES = all_samples_without_transformation\n",
    "NUM_BATCHES = np.ceil(ALL_SAMPLES/BATCH_SIZE)\n",
    "NUM_BATCHES = 100\n",
    "\n",
    "val_data = load_dataset(test_keys)\n",
    "\n",
    "data_gen_validation = BatchGenerator_2D(val_data, BATCH_SIZE, num_batches=NUM_BATCHES, seed=False,\n",
    "                                        PATCH_SIZE=INPUT_PATCH_SIZE)\n",
    "data_gen_validation = MultiThreadedAugmenter(data_gen_validation,\n",
    "                                             ConvertSegToOnehotTransform(range(num_classes), 0, \"seg_onehot\"),\n",
    "                                             1, 2, [0])\n",
    "data_gen_training = create_data_gen_train(train_data, cf['BATCH_SIZE'], cf['INPUT_PATCH_SIZE'], NUM_BATCHES, cf['num_classes'])\n",
    "dataloaders = {'train': data_gen_training, 'val': data_gen_validation}\n",
    "model, train_history, val_history = train_model(model, optimizer_ft, exp_lr_scheduler, dataloaders, num_epochs=cf['n_epochs'])\n"
   ]
  },
  {
   "cell_type": "code",
   "execution_count": 8,
   "metadata": {},
   "outputs": [],
   "source": [
    "from datetime import datetime\n",
    "now = datetime.now()\n",
    "\n",
    "torch.save(model, './entire_model_' + now.strftime(\"%Y-%m-%d_%H-%M-%S\") + '.pth')"
   ]
  },
  {
   "cell_type": "markdown",
   "metadata": {},
   "source": [
    "#### Do some inference and save results"
   ]
  },
  {
   "cell_type": "code",
   "execution_count": 12,
   "metadata": {},
   "outputs": [
    {
     "ename": "RuntimeError",
     "evalue": "CUDA out of memory. Tried to allocate 60.00 MiB (GPU 0; 1.96 GiB total capacity; 897.73 MiB already allocated; 25.56 MiB free; 32.27 MiB cached)",
     "output_type": "error",
     "traceback": [
      "\u001b[0;31m---------------------------------------------------------------------------\u001b[0m",
      "\u001b[0;31mRuntimeError\u001b[0m                              Traceback (most recent call last)",
      "\u001b[0;32m<ipython-input-12-144b56419280>\u001b[0m in \u001b[0;36m<module>\u001b[0;34m\u001b[0m\n\u001b[1;32m      1\u001b[0m \u001b[0mdata_dict\u001b[0m \u001b[0;34m=\u001b[0m \u001b[0mnext\u001b[0m\u001b[0;34m(\u001b[0m\u001b[0mdata_gen_training\u001b[0m\u001b[0;34m)\u001b[0m\u001b[0;34m\u001b[0m\u001b[0;34m\u001b[0m\u001b[0m\n\u001b[1;32m      2\u001b[0m \u001b[0minputs\u001b[0m \u001b[0;34m=\u001b[0m \u001b[0mtorch\u001b[0m\u001b[0;34m.\u001b[0m\u001b[0mfrom_numpy\u001b[0m\u001b[0;34m(\u001b[0m\u001b[0mdata_dict\u001b[0m\u001b[0;34m[\u001b[0m\u001b[0;34m'data'\u001b[0m\u001b[0;34m]\u001b[0m\u001b[0;34m)\u001b[0m\u001b[0;34m.\u001b[0m\u001b[0mto\u001b[0m\u001b[0;34m(\u001b[0m\u001b[0mdevice\u001b[0m\u001b[0;34m)\u001b[0m\u001b[0;34m\u001b[0m\u001b[0;34m\u001b[0m\u001b[0m\n\u001b[0;32m----> 3\u001b[0;31m \u001b[0moutputs\u001b[0m \u001b[0;34m=\u001b[0m \u001b[0mmodel\u001b[0m\u001b[0;34m(\u001b[0m\u001b[0minputs\u001b[0m\u001b[0;34m)\u001b[0m\u001b[0;34m\u001b[0m\u001b[0;34m\u001b[0m\u001b[0m\n\u001b[0m\u001b[1;32m      4\u001b[0m \u001b[0moutputs\u001b[0m\u001b[0;34m.\u001b[0m\u001b[0mcpu\u001b[0m\u001b[0;34m(\u001b[0m\u001b[0;34m)\u001b[0m\u001b[0;34m.\u001b[0m\u001b[0mdetach\u001b[0m\u001b[0;34m(\u001b[0m\u001b[0;34m)\u001b[0m\u001b[0;34m.\u001b[0m\u001b[0mnumpy\u001b[0m\u001b[0;34m(\u001b[0m\u001b[0;34m)\u001b[0m\u001b[0;34m.\u001b[0m\u001b[0mto_filename\u001b[0m\u001b[0;34m(\u001b[0m\u001b[0;34m'out.nii.gz'\u001b[0m\u001b[0;34m)\u001b[0m\u001b[0;34m\u001b[0m\u001b[0;34m\u001b[0m\u001b[0m\n",
      "\u001b[0;32m~/anaconda3/envs/python3.6/lib/python3.6/site-packages/torch/nn/modules/module.py\u001b[0m in \u001b[0;36m__call__\u001b[0;34m(self, *input, **kwargs)\u001b[0m\n\u001b[1;32m    491\u001b[0m             \u001b[0mresult\u001b[0m \u001b[0;34m=\u001b[0m \u001b[0mself\u001b[0m\u001b[0;34m.\u001b[0m\u001b[0m_slow_forward\u001b[0m\u001b[0;34m(\u001b[0m\u001b[0;34m*\u001b[0m\u001b[0minput\u001b[0m\u001b[0;34m,\u001b[0m \u001b[0;34m**\u001b[0m\u001b[0mkwargs\u001b[0m\u001b[0;34m)\u001b[0m\u001b[0;34m\u001b[0m\u001b[0;34m\u001b[0m\u001b[0m\n\u001b[1;32m    492\u001b[0m         \u001b[0;32melse\u001b[0m\u001b[0;34m:\u001b[0m\u001b[0;34m\u001b[0m\u001b[0;34m\u001b[0m\u001b[0m\n\u001b[0;32m--> 493\u001b[0;31m             \u001b[0mresult\u001b[0m \u001b[0;34m=\u001b[0m \u001b[0mself\u001b[0m\u001b[0;34m.\u001b[0m\u001b[0mforward\u001b[0m\u001b[0;34m(\u001b[0m\u001b[0;34m*\u001b[0m\u001b[0minput\u001b[0m\u001b[0;34m,\u001b[0m \u001b[0;34m**\u001b[0m\u001b[0mkwargs\u001b[0m\u001b[0;34m)\u001b[0m\u001b[0;34m\u001b[0m\u001b[0;34m\u001b[0m\u001b[0m\n\u001b[0m\u001b[1;32m    494\u001b[0m         \u001b[0;32mfor\u001b[0m \u001b[0mhook\u001b[0m \u001b[0;32min\u001b[0m \u001b[0mself\u001b[0m\u001b[0;34m.\u001b[0m\u001b[0m_forward_hooks\u001b[0m\u001b[0;34m.\u001b[0m\u001b[0mvalues\u001b[0m\u001b[0;34m(\u001b[0m\u001b[0;34m)\u001b[0m\u001b[0;34m:\u001b[0m\u001b[0;34m\u001b[0m\u001b[0;34m\u001b[0m\u001b[0m\n\u001b[1;32m    495\u001b[0m             \u001b[0mhook_result\u001b[0m \u001b[0;34m=\u001b[0m \u001b[0mhook\u001b[0m\u001b[0;34m(\u001b[0m\u001b[0mself\u001b[0m\u001b[0;34m,\u001b[0m \u001b[0minput\u001b[0m\u001b[0;34m,\u001b[0m \u001b[0mresult\u001b[0m\u001b[0;34m)\u001b[0m\u001b[0;34m\u001b[0m\u001b[0;34m\u001b[0m\u001b[0m\n",
      "\u001b[0;32m~/Studies/PhD_UCD/notebooks/unet.py\u001b[0m in \u001b[0;36mforward\u001b[0;34m(self, x)\u001b[0m\n\u001b[1;32m     92\u001b[0m     \u001b[0;32mdef\u001b[0m \u001b[0mforward\u001b[0m\u001b[0;34m(\u001b[0m\u001b[0mself\u001b[0m\u001b[0;34m,\u001b[0m \u001b[0mx\u001b[0m\u001b[0;34m)\u001b[0m\u001b[0;34m:\u001b[0m\u001b[0;34m\u001b[0m\u001b[0;34m\u001b[0m\u001b[0m\n\u001b[1;32m     93\u001b[0m         \u001b[0;31m# down layers\u001b[0m\u001b[0;34m\u001b[0m\u001b[0;34m\u001b[0m\u001b[0;34m\u001b[0m\u001b[0m\n\u001b[0;32m---> 94\u001b[0;31m         \u001b[0mx\u001b[0m\u001b[0;34m,\u001b[0m \u001b[0mconv1_out\u001b[0m\u001b[0;34m,\u001b[0m \u001b[0mconv1_dim\u001b[0m \u001b[0;34m=\u001b[0m \u001b[0mself\u001b[0m\u001b[0;34m.\u001b[0m\u001b[0mdown_1\u001b[0m\u001b[0;34m(\u001b[0m\u001b[0mx\u001b[0m\u001b[0;34m)\u001b[0m\u001b[0;34m\u001b[0m\u001b[0;34m\u001b[0m\u001b[0m\n\u001b[0m\u001b[1;32m     95\u001b[0m         \u001b[0mx\u001b[0m\u001b[0;34m,\u001b[0m \u001b[0mconv2_out\u001b[0m\u001b[0;34m,\u001b[0m \u001b[0mconv2_dim\u001b[0m \u001b[0;34m=\u001b[0m \u001b[0mself\u001b[0m\u001b[0;34m.\u001b[0m\u001b[0mdown_2\u001b[0m\u001b[0;34m(\u001b[0m\u001b[0mx\u001b[0m\u001b[0;34m)\u001b[0m\u001b[0;34m\u001b[0m\u001b[0;34m\u001b[0m\u001b[0m\n\u001b[1;32m     96\u001b[0m         \u001b[0mx\u001b[0m\u001b[0;34m,\u001b[0m \u001b[0mconv3_out\u001b[0m\u001b[0;34m,\u001b[0m \u001b[0mconv3_dim\u001b[0m \u001b[0;34m=\u001b[0m \u001b[0mself\u001b[0m\u001b[0;34m.\u001b[0m\u001b[0mdown_3\u001b[0m\u001b[0;34m(\u001b[0m\u001b[0mx\u001b[0m\u001b[0;34m)\u001b[0m\u001b[0;34m\u001b[0m\u001b[0;34m\u001b[0m\u001b[0m\n",
      "\u001b[0;32m~/anaconda3/envs/python3.6/lib/python3.6/site-packages/torch/nn/modules/module.py\u001b[0m in \u001b[0;36m__call__\u001b[0;34m(self, *input, **kwargs)\u001b[0m\n\u001b[1;32m    491\u001b[0m             \u001b[0mresult\u001b[0m \u001b[0;34m=\u001b[0m \u001b[0mself\u001b[0m\u001b[0;34m.\u001b[0m\u001b[0m_slow_forward\u001b[0m\u001b[0;34m(\u001b[0m\u001b[0;34m*\u001b[0m\u001b[0minput\u001b[0m\u001b[0;34m,\u001b[0m \u001b[0;34m**\u001b[0m\u001b[0mkwargs\u001b[0m\u001b[0;34m)\u001b[0m\u001b[0;34m\u001b[0m\u001b[0;34m\u001b[0m\u001b[0m\n\u001b[1;32m    492\u001b[0m         \u001b[0;32melse\u001b[0m\u001b[0;34m:\u001b[0m\u001b[0;34m\u001b[0m\u001b[0;34m\u001b[0m\u001b[0m\n\u001b[0;32m--> 493\u001b[0;31m             \u001b[0mresult\u001b[0m \u001b[0;34m=\u001b[0m \u001b[0mself\u001b[0m\u001b[0;34m.\u001b[0m\u001b[0mforward\u001b[0m\u001b[0;34m(\u001b[0m\u001b[0;34m*\u001b[0m\u001b[0minput\u001b[0m\u001b[0;34m,\u001b[0m \u001b[0;34m**\u001b[0m\u001b[0mkwargs\u001b[0m\u001b[0;34m)\u001b[0m\u001b[0;34m\u001b[0m\u001b[0;34m\u001b[0m\u001b[0m\n\u001b[0m\u001b[1;32m    494\u001b[0m         \u001b[0;32mfor\u001b[0m \u001b[0mhook\u001b[0m \u001b[0;32min\u001b[0m \u001b[0mself\u001b[0m\u001b[0;34m.\u001b[0m\u001b[0m_forward_hooks\u001b[0m\u001b[0;34m.\u001b[0m\u001b[0mvalues\u001b[0m\u001b[0;34m(\u001b[0m\u001b[0;34m)\u001b[0m\u001b[0;34m:\u001b[0m\u001b[0;34m\u001b[0m\u001b[0;34m\u001b[0m\u001b[0m\n\u001b[1;32m    495\u001b[0m             \u001b[0mhook_result\u001b[0m \u001b[0;34m=\u001b[0m \u001b[0mhook\u001b[0m\u001b[0;34m(\u001b[0m\u001b[0mself\u001b[0m\u001b[0;34m,\u001b[0m \u001b[0minput\u001b[0m\u001b[0;34m,\u001b[0m \u001b[0mresult\u001b[0m\u001b[0;34m)\u001b[0m\u001b[0;34m\u001b[0m\u001b[0;34m\u001b[0m\u001b[0m\n",
      "\u001b[0;32m~/Studies/PhD_UCD/notebooks/unet.py\u001b[0m in \u001b[0;36mforward\u001b[0;34m(self, x)\u001b[0m\n\u001b[1;32m     17\u001b[0m \u001b[0;34m\u001b[0m\u001b[0m\n\u001b[1;32m     18\u001b[0m     \u001b[0;32mdef\u001b[0m \u001b[0mforward\u001b[0m\u001b[0;34m(\u001b[0m\u001b[0mself\u001b[0m\u001b[0;34m,\u001b[0m \u001b[0mx\u001b[0m\u001b[0;34m)\u001b[0m\u001b[0;34m:\u001b[0m\u001b[0;34m\u001b[0m\u001b[0;34m\u001b[0m\u001b[0m\n\u001b[0;32m---> 19\u001b[0;31m         \u001b[0mx\u001b[0m \u001b[0;34m=\u001b[0m \u001b[0mself\u001b[0m\u001b[0;34m.\u001b[0m\u001b[0mconv\u001b[0m\u001b[0;34m(\u001b[0m\u001b[0mx\u001b[0m\u001b[0;34m)\u001b[0m\u001b[0;34m\u001b[0m\u001b[0;34m\u001b[0m\u001b[0m\n\u001b[0m\u001b[1;32m     20\u001b[0m         \u001b[0;32mreturn\u001b[0m \u001b[0mself\u001b[0m\u001b[0;34m.\u001b[0m\u001b[0mmax\u001b[0m\u001b[0;34m(\u001b[0m\u001b[0mx\u001b[0m\u001b[0;34m)\u001b[0m\u001b[0;34m,\u001b[0m \u001b[0mx\u001b[0m\u001b[0;34m,\u001b[0m \u001b[0mx\u001b[0m\u001b[0;34m.\u001b[0m\u001b[0mshape\u001b[0m\u001b[0;34m[\u001b[0m\u001b[0;36m2\u001b[0m\u001b[0;34m]\u001b[0m\u001b[0;34m\u001b[0m\u001b[0;34m\u001b[0m\u001b[0m\n\u001b[1;32m     21\u001b[0m \u001b[0;34m\u001b[0m\u001b[0m\n",
      "\u001b[0;32m~/anaconda3/envs/python3.6/lib/python3.6/site-packages/torch/nn/modules/module.py\u001b[0m in \u001b[0;36m__call__\u001b[0;34m(self, *input, **kwargs)\u001b[0m\n\u001b[1;32m    491\u001b[0m             \u001b[0mresult\u001b[0m \u001b[0;34m=\u001b[0m \u001b[0mself\u001b[0m\u001b[0;34m.\u001b[0m\u001b[0m_slow_forward\u001b[0m\u001b[0;34m(\u001b[0m\u001b[0;34m*\u001b[0m\u001b[0minput\u001b[0m\u001b[0;34m,\u001b[0m \u001b[0;34m**\u001b[0m\u001b[0mkwargs\u001b[0m\u001b[0;34m)\u001b[0m\u001b[0;34m\u001b[0m\u001b[0;34m\u001b[0m\u001b[0m\n\u001b[1;32m    492\u001b[0m         \u001b[0;32melse\u001b[0m\u001b[0;34m:\u001b[0m\u001b[0;34m\u001b[0m\u001b[0;34m\u001b[0m\u001b[0m\n\u001b[0;32m--> 493\u001b[0;31m             \u001b[0mresult\u001b[0m \u001b[0;34m=\u001b[0m \u001b[0mself\u001b[0m\u001b[0;34m.\u001b[0m\u001b[0mforward\u001b[0m\u001b[0;34m(\u001b[0m\u001b[0;34m*\u001b[0m\u001b[0minput\u001b[0m\u001b[0;34m,\u001b[0m \u001b[0;34m**\u001b[0m\u001b[0mkwargs\u001b[0m\u001b[0;34m)\u001b[0m\u001b[0;34m\u001b[0m\u001b[0;34m\u001b[0m\u001b[0m\n\u001b[0m\u001b[1;32m    494\u001b[0m         \u001b[0;32mfor\u001b[0m \u001b[0mhook\u001b[0m \u001b[0;32min\u001b[0m \u001b[0mself\u001b[0m\u001b[0;34m.\u001b[0m\u001b[0m_forward_hooks\u001b[0m\u001b[0;34m.\u001b[0m\u001b[0mvalues\u001b[0m\u001b[0;34m(\u001b[0m\u001b[0;34m)\u001b[0m\u001b[0;34m:\u001b[0m\u001b[0;34m\u001b[0m\u001b[0;34m\u001b[0m\u001b[0m\n\u001b[1;32m    495\u001b[0m             \u001b[0mhook_result\u001b[0m \u001b[0;34m=\u001b[0m \u001b[0mhook\u001b[0m\u001b[0;34m(\u001b[0m\u001b[0mself\u001b[0m\u001b[0;34m,\u001b[0m \u001b[0minput\u001b[0m\u001b[0;34m,\u001b[0m \u001b[0mresult\u001b[0m\u001b[0;34m)\u001b[0m\u001b[0;34m\u001b[0m\u001b[0;34m\u001b[0m\u001b[0m\n",
      "\u001b[0;32m~/anaconda3/envs/python3.6/lib/python3.6/site-packages/torch/nn/modules/container.py\u001b[0m in \u001b[0;36mforward\u001b[0;34m(self, input)\u001b[0m\n\u001b[1;32m     90\u001b[0m     \u001b[0;32mdef\u001b[0m \u001b[0mforward\u001b[0m\u001b[0;34m(\u001b[0m\u001b[0mself\u001b[0m\u001b[0;34m,\u001b[0m \u001b[0minput\u001b[0m\u001b[0;34m)\u001b[0m\u001b[0;34m:\u001b[0m\u001b[0;34m\u001b[0m\u001b[0;34m\u001b[0m\u001b[0m\n\u001b[1;32m     91\u001b[0m         \u001b[0;32mfor\u001b[0m \u001b[0mmodule\u001b[0m \u001b[0;32min\u001b[0m \u001b[0mself\u001b[0m\u001b[0;34m.\u001b[0m\u001b[0m_modules\u001b[0m\u001b[0;34m.\u001b[0m\u001b[0mvalues\u001b[0m\u001b[0;34m(\u001b[0m\u001b[0;34m)\u001b[0m\u001b[0;34m:\u001b[0m\u001b[0;34m\u001b[0m\u001b[0;34m\u001b[0m\u001b[0m\n\u001b[0;32m---> 92\u001b[0;31m             \u001b[0minput\u001b[0m \u001b[0;34m=\u001b[0m \u001b[0mmodule\u001b[0m\u001b[0;34m(\u001b[0m\u001b[0minput\u001b[0m\u001b[0;34m)\u001b[0m\u001b[0;34m\u001b[0m\u001b[0;34m\u001b[0m\u001b[0m\n\u001b[0m\u001b[1;32m     93\u001b[0m         \u001b[0;32mreturn\u001b[0m \u001b[0minput\u001b[0m\u001b[0;34m\u001b[0m\u001b[0;34m\u001b[0m\u001b[0m\n\u001b[1;32m     94\u001b[0m \u001b[0;34m\u001b[0m\u001b[0m\n",
      "\u001b[0;32m~/anaconda3/envs/python3.6/lib/python3.6/site-packages/torch/nn/modules/module.py\u001b[0m in \u001b[0;36m__call__\u001b[0;34m(self, *input, **kwargs)\u001b[0m\n\u001b[1;32m    491\u001b[0m             \u001b[0mresult\u001b[0m \u001b[0;34m=\u001b[0m \u001b[0mself\u001b[0m\u001b[0;34m.\u001b[0m\u001b[0m_slow_forward\u001b[0m\u001b[0;34m(\u001b[0m\u001b[0;34m*\u001b[0m\u001b[0minput\u001b[0m\u001b[0;34m,\u001b[0m \u001b[0;34m**\u001b[0m\u001b[0mkwargs\u001b[0m\u001b[0;34m)\u001b[0m\u001b[0;34m\u001b[0m\u001b[0;34m\u001b[0m\u001b[0m\n\u001b[1;32m    492\u001b[0m         \u001b[0;32melse\u001b[0m\u001b[0;34m:\u001b[0m\u001b[0;34m\u001b[0m\u001b[0;34m\u001b[0m\u001b[0m\n\u001b[0;32m--> 493\u001b[0;31m             \u001b[0mresult\u001b[0m \u001b[0;34m=\u001b[0m \u001b[0mself\u001b[0m\u001b[0;34m.\u001b[0m\u001b[0mforward\u001b[0m\u001b[0;34m(\u001b[0m\u001b[0;34m*\u001b[0m\u001b[0minput\u001b[0m\u001b[0;34m,\u001b[0m \u001b[0;34m**\u001b[0m\u001b[0mkwargs\u001b[0m\u001b[0;34m)\u001b[0m\u001b[0;34m\u001b[0m\u001b[0;34m\u001b[0m\u001b[0m\n\u001b[0m\u001b[1;32m    494\u001b[0m         \u001b[0;32mfor\u001b[0m \u001b[0mhook\u001b[0m \u001b[0;32min\u001b[0m \u001b[0mself\u001b[0m\u001b[0;34m.\u001b[0m\u001b[0m_forward_hooks\u001b[0m\u001b[0;34m.\u001b[0m\u001b[0mvalues\u001b[0m\u001b[0;34m(\u001b[0m\u001b[0;34m)\u001b[0m\u001b[0;34m:\u001b[0m\u001b[0;34m\u001b[0m\u001b[0;34m\u001b[0m\u001b[0m\n\u001b[1;32m    495\u001b[0m             \u001b[0mhook_result\u001b[0m \u001b[0;34m=\u001b[0m \u001b[0mhook\u001b[0m\u001b[0;34m(\u001b[0m\u001b[0mself\u001b[0m\u001b[0;34m,\u001b[0m \u001b[0minput\u001b[0m\u001b[0;34m,\u001b[0m \u001b[0mresult\u001b[0m\u001b[0;34m)\u001b[0m\u001b[0;34m\u001b[0m\u001b[0;34m\u001b[0m\u001b[0m\n",
      "\u001b[0;32m~/anaconda3/envs/python3.6/lib/python3.6/site-packages/torch/nn/modules/conv.py\u001b[0m in \u001b[0;36mforward\u001b[0;34m(self, input)\u001b[0m\n\u001b[1;32m    336\u001b[0m                             _pair(0), self.dilation, self.groups)\n\u001b[1;32m    337\u001b[0m         return F.conv2d(input, self.weight, self.bias, self.stride,\n\u001b[0;32m--> 338\u001b[0;31m                         self.padding, self.dilation, self.groups)\n\u001b[0m\u001b[1;32m    339\u001b[0m \u001b[0;34m\u001b[0m\u001b[0m\n\u001b[1;32m    340\u001b[0m \u001b[0;34m\u001b[0m\u001b[0m\n",
      "\u001b[0;31mRuntimeError\u001b[0m: CUDA out of memory. Tried to allocate 60.00 MiB (GPU 0; 1.96 GiB total capacity; 897.73 MiB already allocated; 25.56 MiB free; 32.27 MiB cached)"
     ]
    }
   ],
   "source": [
    "data_dict = next(data_gen_training)\n",
    "inputs = torch.from_numpy(data_dict['data']).to(device)\n",
    "outputs = model(inputs)\n",
    "outputs.cpu().detach().numpy().to_filename('out.nii.gz')"
   ]
  },
  {
   "cell_type": "markdown",
   "metadata": {},
   "source": [
    "#### Collect activations"
   ]
  },
  {
   "cell_type": "code",
   "execution_count": 18,
   "metadata": {},
   "outputs": [],
   "source": [
    "def activations(model, loader, layer_fun=None, n_sample=10):\n",
    "    \"\"\"\n",
    "    Return Activations\n",
    "\n",
    "    :param model: An nn.Module object whose activations we want to inspect.\n",
    "    :param loader: A generator whose next() iterator returns (x, y).\n",
    "    :param layer_fun: A function that returns a tensor of features, when\n",
    "      applied to a model and input x.\n",
    "    :param n_sample: The number of images from the loader to compute\n",
    "      activations for.\n",
    "    :returns summary: A list of dictionaries, each giving the image patch,\n",
    "      feature activations for the first n_sample patches in\n",
    "      the loader.\n",
    "\n",
    "    Example\n",
    "    -------\n",
    "    >>> loader = patch_gen_train()\n",
    "    >>> model = UNet(params[\"model_opts\"])\n",
    "    >>> model.load_state_dict(\n",
    "          torch.load(model_path)\n",
    "        )\n",
    "    >>>\n",
    "    >>> summary = activations(model, loader)\n",
    "    \"\"\"\n",
    "    if not layer_fun:\n",
    "        layer_fun = lambda model, x: model.pre_pred(x)\n",
    "\n",
    "    summary = []\n",
    "    for i, D in enumerate(loader):\n",
    "        print(\"batch {}\".format(i))\n",
    "        if i > n_sample:\n",
    "            break\n",
    "\n",
    "        # each element of the batch\n",
    "        x = torch.from_numpy(D['data']).to(device)\n",
    "        types = D['types']\n",
    "        patient_ids = D['patient_ids']\n",
    "        pathologies = D['pathologies']\n",
    "        seg_onehot = D['seg_onehot']\n",
    "        y = torch.from_numpy(D['seg_onehot']).to(device) # we need an output encoded into 4 layers          \n",
    "        \n",
    "        h = layer_fun(model, x)\n",
    "        for j, _ in enumerate(x):\n",
    "            summary.append({\n",
    "                \"x\": x[j].detach().cpu().numpy(),\n",
    "                \"h\": h[j].detach().cpu().numpy(),\n",
    "            })\n",
    "\n",
    "    return summary\n",
    "\n",
    "\n",
    "def ft_fun(model, x):\n",
    "    \"\"\"\n",
    "    Activations to write for the U-net\n",
    "    \"\"\"\n",
    "    x, conv1_out, conv1_dim = model.down_1(x)\n",
    "    x, conv2_out, conv2_dim = model.down_2(x)\n",
    "    x, conv3_out, conv3_dim = model.down_3(x)\n",
    "    x, conv4_out, conv4_dim = model.down_4(x)\n",
    "\n",
    "    # norms for each feature map at the encoder layer\n",
    "    x = model.conv5_block(x)\n",
    "    return torch.sum(x ** 2, dim=(2, 3)) ** (0.5)\n",
    "\n",
    "def reshape_activations(summary):\n",
    "    \"\"\"\n",
    "    Matrix-ify the output of activations()\n",
    "\n",
    "    :param summary: The output of the activations function. This is a list of\n",
    "      dictionaries describing each patch.\n",
    "    :return: A tuple with the following components,\n",
    "      H: A numpy array whose rows correspond to patches and whose values are\n",
    "      activations.\n",
    "\n",
    "    Example\n",
    "    -------\n",
    "    >>> summary = activations(model, loader)\n",
    "    >>> H = reshape_activations(summary)\n",
    "    >>>\n",
    "    >>> np.savetxt(os.path.join(params[\"save_dir\"], \"H.csv\"), H, delim=\",\")\n",
    "    \"\"\"\n",
    "    N = len(summary)\n",
    "    K = len(summary[0][\"h\"])\n",
    "\n",
    "    H = np.zeros((N, K))\n",
    "\n",
    "\n",
    "    for i in range(N):\n",
    "        H[i] = summary[i][\"h\"]\n",
    "\n",
    "    return H"
   ]
  },
  {
   "cell_type": "code",
   "execution_count": 26,
   "metadata": {},
   "outputs": [
    {
     "name": "stdout",
     "output_type": "stream",
     "text": [
      "batch 0\n"
     ]
    },
    {
     "ename": "RuntimeError",
     "evalue": "CUDA out of memory. Tried to allocate 20.00 MiB (GPU 0; 1.96 GiB total capacity; 916.57 MiB already allocated; 25.56 MiB free; 13.43 MiB cached)",
     "output_type": "error",
     "traceback": [
      "\u001b[0;31m---------------------------------------------------------------------------\u001b[0m",
      "\u001b[0;31mRuntimeError\u001b[0m                              Traceback (most recent call last)",
      "\u001b[0;32m<ipython-input-26-be9ab38ccdf8>\u001b[0m in \u001b[0;36m<module>\u001b[0;34m\u001b[0m\n\u001b[1;32m     10\u001b[0m     \u001b[0mft_fun\u001b[0m\u001b[0;34m,\u001b[0m\u001b[0;34m\u001b[0m\u001b[0;34m\u001b[0m\u001b[0m\n\u001b[1;32m     11\u001b[0m     \u001b[0;34m\"./results_experiment/\"\u001b[0m\u001b[0;34m,\u001b[0m\u001b[0;34m\u001b[0m\u001b[0;34m\u001b[0m\u001b[0m\n\u001b[0;32m---> 12\u001b[0;31m     \u001b[0mn_sample\u001b[0m\u001b[0;34m=\u001b[0m\u001b[0;36m20\u001b[0m\u001b[0;34m\u001b[0m\u001b[0;34m\u001b[0m\u001b[0m\n\u001b[0m\u001b[1;32m     13\u001b[0m )\n",
      "\u001b[0;32m<ipython-input-26-be9ab38ccdf8>\u001b[0m in \u001b[0;36msave_summary\u001b[0;34m(model, loader, layer_fun, out_path, **kwargs)\u001b[0m\n\u001b[1;32m      1\u001b[0m \u001b[0;32mdef\u001b[0m \u001b[0msave_summary\u001b[0m\u001b[0;34m(\u001b[0m\u001b[0mmodel\u001b[0m\u001b[0;34m,\u001b[0m \u001b[0mloader\u001b[0m\u001b[0;34m,\u001b[0m \u001b[0mlayer_fun\u001b[0m\u001b[0;34m,\u001b[0m \u001b[0mout_path\u001b[0m\u001b[0;34m,\u001b[0m \u001b[0;34m**\u001b[0m\u001b[0mkwargs\u001b[0m\u001b[0;34m)\u001b[0m\u001b[0;34m:\u001b[0m\u001b[0;34m\u001b[0m\u001b[0;34m\u001b[0m\u001b[0m\n\u001b[0;32m----> 2\u001b[0;31m     \u001b[0msummary\u001b[0m \u001b[0;34m=\u001b[0m \u001b[0mactivations\u001b[0m\u001b[0;34m(\u001b[0m\u001b[0mmodel\u001b[0m\u001b[0;34m,\u001b[0m \u001b[0mloader\u001b[0m\u001b[0;34m,\u001b[0m \u001b[0mlayer_fun\u001b[0m\u001b[0;34m,\u001b[0m \u001b[0mn_sample\u001b[0m\u001b[0;34m=\u001b[0m\u001b[0;36m10\u001b[0m\u001b[0;34m)\u001b[0m\u001b[0;34m\u001b[0m\u001b[0;34m\u001b[0m\u001b[0m\n\u001b[0m\u001b[1;32m      3\u001b[0m     \u001b[0mH\u001b[0m \u001b[0;34m=\u001b[0m \u001b[0mreshape_activations\u001b[0m\u001b[0;34m(\u001b[0m\u001b[0msummary\u001b[0m\u001b[0;34m)\u001b[0m\u001b[0;34m\u001b[0m\u001b[0;34m\u001b[0m\u001b[0m\n\u001b[1;32m      4\u001b[0m     \u001b[0mnp\u001b[0m\u001b[0;34m.\u001b[0m\u001b[0msavetxt\u001b[0m\u001b[0;34m(\u001b[0m\u001b[0;34m\"{}-H.csv\"\u001b[0m\u001b[0;34m.\u001b[0m\u001b[0mformat\u001b[0m\u001b[0;34m(\u001b[0m\u001b[0mout_path\u001b[0m\u001b[0;34m)\u001b[0m\u001b[0;34m,\u001b[0m \u001b[0mH\u001b[0m\u001b[0;34m,\u001b[0m \u001b[0mdelimiter\u001b[0m\u001b[0;34m=\u001b[0m\u001b[0;34m\",\"\u001b[0m\u001b[0;34m)\u001b[0m\u001b[0;34m\u001b[0m\u001b[0;34m\u001b[0m\u001b[0m\n\u001b[1;32m      5\u001b[0m \u001b[0;34m\u001b[0m\u001b[0m\n",
      "\u001b[0;32m<ipython-input-18-cdd4fd959e87>\u001b[0m in \u001b[0;36mactivations\u001b[0;34m(model, loader, layer_fun, n_sample)\u001b[0m\n\u001b[1;32m     33\u001b[0m \u001b[0;34m\u001b[0m\u001b[0m\n\u001b[1;32m     34\u001b[0m         \u001b[0;31m# each element of the batch\u001b[0m\u001b[0;34m\u001b[0m\u001b[0;34m\u001b[0m\u001b[0;34m\u001b[0m\u001b[0m\n\u001b[0;32m---> 35\u001b[0;31m         \u001b[0mx\u001b[0m \u001b[0;34m=\u001b[0m \u001b[0mtorch\u001b[0m\u001b[0;34m.\u001b[0m\u001b[0mfrom_numpy\u001b[0m\u001b[0;34m(\u001b[0m\u001b[0mD\u001b[0m\u001b[0;34m[\u001b[0m\u001b[0;34m'data'\u001b[0m\u001b[0;34m]\u001b[0m\u001b[0;34m)\u001b[0m\u001b[0;34m.\u001b[0m\u001b[0mto\u001b[0m\u001b[0;34m(\u001b[0m\u001b[0mdevice\u001b[0m\u001b[0;34m)\u001b[0m\u001b[0;34m\u001b[0m\u001b[0;34m\u001b[0m\u001b[0m\n\u001b[0m\u001b[1;32m     36\u001b[0m         \u001b[0mtypes\u001b[0m \u001b[0;34m=\u001b[0m \u001b[0mD\u001b[0m\u001b[0;34m[\u001b[0m\u001b[0;34m'types'\u001b[0m\u001b[0;34m]\u001b[0m\u001b[0;34m\u001b[0m\u001b[0;34m\u001b[0m\u001b[0m\n\u001b[1;32m     37\u001b[0m         \u001b[0mpatient_ids\u001b[0m \u001b[0;34m=\u001b[0m \u001b[0mD\u001b[0m\u001b[0;34m[\u001b[0m\u001b[0;34m'patient_ids'\u001b[0m\u001b[0;34m]\u001b[0m\u001b[0;34m\u001b[0m\u001b[0;34m\u001b[0m\u001b[0m\n",
      "\u001b[0;31mRuntimeError\u001b[0m: CUDA out of memory. Tried to allocate 20.00 MiB (GPU 0; 1.96 GiB total capacity; 916.57 MiB already allocated; 25.56 MiB free; 13.43 MiB cached)"
     ]
    }
   ],
   "source": [
    "def save_summary(model, loader, layer_fun, out_path, **kwargs):\n",
    "    summary = activations(model, loader, layer_fun, n_sample=10)\n",
    "    H = reshape_activations(summary)\n",
    "    np.savetxt(\"{}-H.csv\".format(out_path), H, delimiter=\",\")\n",
    "\n",
    "# save activations to file\n",
    "save_summary(\n",
    "    model,\n",
    "    data_gen_training,\n",
    "    ft_fun,\n",
    "    \"./results_experiment/\",\n",
    "    n_sample=20\n",
    ")"
   ]
  },
  {
   "cell_type": "code",
   "execution_count": 16,
   "metadata": {},
   "outputs": [
    {
     "data": {
      "image/png": "[encoded data removed]",
      "text/plain": [
       "<Figure size 1296x576 with 1 Axes>"
      ]
     },
     "metadata": {
      "needs_background": "light"
     },
     "output_type": "display_data"
    },
    {
     "data": {
      "text/plain": [
       "(5,)"
      ]
     },
     "execution_count": 16,
     "metadata": {},
     "output_type": "execute_result"
    }
   ],
   "source": [
    "import matplotlib.pyplot as plt\n",
    "plt.figure(figsize=(18,8))\n",
    "plt.plot(train_history)\n",
    "plt.plot(val_history)\n",
    "plt.show()"
   ]
  },
  {
   "cell_type": "markdown",
   "metadata": {},
   "source": [
    "### Estimate time that it will take to train the model\n",
    "\n",
    "- How much data samples do we have?\n",
    "- How much time does it take to process one batch?\n",
    "- How many epochs does it suppose to run?\n",
    "- How much time does it take to process one epoch?"
   ]
  },
  {
   "cell_type": "markdown",
   "metadata": {},
   "source": [
    "#### How much data samples do we have?"
   ]
  },
  {
   "cell_type": "code",
   "execution_count": null,
   "metadata": {},
   "outputs": [],
   "source": [
    "data = load_dataset()"
   ]
  },
  {
   "cell_type": "code",
   "execution_count": null,
   "metadata": {},
   "outputs": [],
   "source": [
    "nb_entities = len(data)\n",
    "types = [x for x in data[1].keys() if 'data' in x.split('_')]\n",
    "nb_samples = []\n",
    "for typ in types:\n",
    "    nb_samples.append([np.shape(data[x][typ])[0] for x in range(1,nb_entities+1)])\n",
    "max_samples = max(nb_samples[0]+nb_samples[1])\n",
    "min_samples = min(nb_samples[0]+nb_samples[1])\n",
    "avg_samples = np.ceil(np.mean(nb_samples[0]+nb_samples[1]))\n",
    "all_samples_without_transformation = nb_entities * len(types) * avg_samples\n",
    "ALL_SAMPLES = all_samples_without_transformation\n",
    "NUM_BATCHES = np.ceil(ALL_SAMPLES/BATCH_SIZE)"
   ]
  },
  {
   "cell_type": "code",
   "execution_count": null,
   "metadata": {},
   "outputs": [],
   "source": [
    "print(\"There are {} patients in the dataset.\".format(nb_entities))\n",
    "print(\"There are {} types of data per patient.\".format(len(types)))\n",
    "for typ in types:\n",
    "    print(\"There are {} samples of type: {}\".format(np.shape(data[1][typ])[0], typ))\n",
    "print('There are around {} number of samples without transformation'.format(all_samples_without_transformation))"
   ]
  },
  {
   "cell_type": "markdown",
   "metadata": {},
   "source": [
    "#### How much time does it take to process one batch?"
   ]
  },
  {
   "cell_type": "code",
   "execution_count": null,
   "metadata": {},
   "outputs": [],
   "source": []
  },
  {
   "cell_type": "markdown",
   "metadata": {},
   "source": [
    "#### How many epochs does it suppose to run?"
   ]
  },
  {
   "cell_type": "code",
   "execution_count": null,
   "metadata": {},
   "outputs": [],
   "source": []
  },
  {
   "cell_type": "markdown",
   "metadata": {},
   "source": [
    "#### How much time does it take to process one epoch?"
   ]
  },
  {
   "cell_type": "markdown",
   "metadata": {},
   "source": [
    "##### Without transformations"
   ]
  },
  {
   "cell_type": "code",
   "execution_count": 27,
   "metadata": {},
   "outputs": [
    {
     "name": "stdout",
     "output_type": "stream",
     "text": [
      "11m 10.0s | On avarage it takes 11 minutes and 10.0 seconds to train one epoch.\n"
     ]
    }
   ],
   "source": [
    "# with batch size = 1\n",
    "times = ['9m 45s', '11m 28s', '11m 28s', '11m 32s', '11m 36s']\n",
    "minutes = [int(x.split('m')[0])*60 for x in times]\n",
    "seconds = [int(x.split(' ')[1].split('s')[0]) for x in times]\n",
    "times_sec = []\n",
    "for i in range(len(minutes)):\n",
    "    times_sec.append((minutes[i] + seconds[i])/60)\n",
    "mean = np.mean(times_sec)\n",
    "print(\"{0}m {1}s | On avarage it takes {0} minutes and {1} seconds to train one epoch.\".format(int(mean),np.ceil((mean - int(mean))*60)))"
   ]
  },
  {
   "cell_type": "code",
   "execution_count": null,
   "metadata": {},
   "outputs": [],
   "source": [
    "print(\"It takes 9m 45s to process one epoch of batch size with 1 sample.\")"
   ]
  },
  {
   "cell_type": "markdown",
   "metadata": {},
   "source": [
    "##### With the following transformations:"
   ]
  },
  {
   "cell_type": "code",
   "execution_count": null,
   "metadata": {},
   "outputs": [],
   "source": []
  },
  {
   "cell_type": "markdown",
   "metadata": {},
   "source": [
    "--------------------------------------\n",
    "\n",
    "##### Decisions to be made:\n",
    "\n",
    "- What transformations to use?\n",
    "- How big the batch should be?\n",
    "- For how many epochs it shoud train for?\n",
    "- How many batches should be in one epoch?"
   ]
  },
  {
   "cell_type": "markdown",
   "metadata": {},
   "source": [
    "##### TODO:\n",
    "\n",
    "- why the heck, the images are rotated and scaled in the batches even with transforms off? - investigate\n",
    "- correct collected intermediate metrics +\n",
    "- collect activations from the ordered batch generator <br> to make it more meaningful to analyze\n",
    "- single patient data input +\n",
    "- assess model performance +\n",
    "- extract training parameters into a separate file +\n",
    "- collect training history +\n",
    "- save training history to the file +\n",
    "- train the network +\n",
    "- collect activations from the bottleneck layer +\n",
    "- collect adequate patches +\n",
    "- plot results +\n",
    "- submission file for ACDC17 format: patientXXX_ED.nii.gz and patientXXX_ES.nii.gz, https://acdc.creatis.insa-lyon.fr/#phase/5846c3ab6a3c7735e84b67f2/submit "
   ]
  },
  {
   "cell_type": "markdown",
   "metadata": {},
   "source": [
    "#### Links:\n",
    "\n",
    "- https://www.creatis.insa-lyon.fr/Challenge/acdc/databases.html\n",
    "- https://acdc.creatis.insa-lyon.fr/#phase/5846c3ab6a3c7735e84b67f2/submit\n",
    "- https://www.creatis.insa-lyon.fr/Challenge/acdc/evaluationSegmentation.html\n",
    "- https://www.creatis.insa-lyon.fr/Challenge/acdc/code/metrics_acdc.py"
   ]
  },
  {
   "cell_type": "markdown",
   "metadata": {},
   "source": [
    "From Isensee et al.:\n",
    "\"The 3D model was trained for 300 epochs in a 5-fold cross validation using the\n",
    "ADAM solver and a pixel-wise categorical cross-entropy loss. The initial learning\n",
    "rate of 5 · 10−4 was decayed by 0.98 per epoch, where an epoch was defined as\n",
    "100 batches, each comprising four training examples. Training examples were\n",
    "generated as random crops of size 224 × 224 × 10 voxels taken from a randomly\n",
    "chosen training patient and phase instance (ED/ES).\"\n"
   ]
  },
  {
   "cell_type": "code",
   "execution_count": 30,
   "metadata": {},
   "outputs": [],
   "source": []
  },
  {
   "cell_type": "code",
   "execution_count": null,
   "metadata": {},
   "outputs": [],
   "source": []
  }
 ],
 "metadata": {
  "kernelspec": {
   "display_name": "Python 3",
   "language": "python",
   "name": "python3"
  },
  "language_info": {
   "codemirror_mode": {
    "name": "ipython",
    "version": 3
   },
   "file_extension": ".py",
   "mimetype": "text/x-python",
   "name": "python",
   "nbconvert_exporter": "python",
   "pygments_lexer": "ipython3",
   "version": "3.5.2"
  }
 },
 "nbformat": 4,
 "nbformat_minor": 2
}
