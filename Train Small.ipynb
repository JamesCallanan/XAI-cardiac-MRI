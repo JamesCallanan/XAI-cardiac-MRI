{
 "cells": [
  {
   "cell_type": "code",
   "execution_count": 8,
   "metadata": {},
   "outputs": [
    {
     "name": "stdout",
     "output_type": "stream",
     "text": [
      "{\n",
      "    \"BATCH_SIZE\": 10,\n",
      "    \"INPUT_PATCH_SIZE\": 348,\n",
      "    \"num_classes\": 4,\n",
      "    \"EXPERIMENT_NAME\": \"Test-Implementation\",\n",
      "    \"results_dir\": \"./results-experiment\",\n",
      "    \"n_epochs\": 300,\n",
      "    \"lr_decay\": 0.985,\n",
      "    \"base_lr\": 0.0005,\n",
      "    \"n_batches_per_epoch\": 10,\n",
      "    \"n_test_batches\": 10,\n",
      "    \"n_feedbacks_per_epoch\": 10,\n",
      "    \"num_workers\": 6,\n",
      "    \"workers_seeds\": [123, 1234, 12345, 123456, 1234567, 12345678],\n",
      "    \"weight_decay\": 1e-5,\n",
      "    \"n_input_channels\": 1\n",
      "}\n",
      "\n",
      "\n"
     ]
    },
    {
     "ename": "ImportError",
     "evalue": "cannot import name 'load_concepts_dataset'",
     "output_type": "error",
     "traceback": [
      "\u001b[0;31m---------------------------------------------------------------------------\u001b[0m",
      "\u001b[0;31mImportError\u001b[0m                               Traceback (most recent call last)",
      "\u001b[0;32m<ipython-input-8-a7864320d03d>\u001b[0m in \u001b[0;36m<module>\u001b[0;34m\u001b[0m\n\u001b[1;32m      2\u001b[0m \u001b[0;32mimport\u001b[0m \u001b[0mcode_for_cardiac_mri_analysis\u001b[0m\u001b[0;34m.\u001b[0m\u001b[0mloss\u001b[0m\u001b[0;34m\u001b[0m\u001b[0;34m\u001b[0m\u001b[0m\n\u001b[1;32m      3\u001b[0m \u001b[0;32mimport\u001b[0m \u001b[0mcode_for_cardiac_mri_analysis\u001b[0m\u001b[0;34m.\u001b[0m\u001b[0mtrain_unet\u001b[0m\u001b[0;34m\u001b[0m\u001b[0;34m\u001b[0m\u001b[0m\n\u001b[0;32m----> 4\u001b[0;31m \u001b[0;32mimport\u001b[0m \u001b[0mcode_for_cardiac_mri_analysis\u001b[0m\u001b[0;34m.\u001b[0m\u001b[0mcollect_activations\u001b[0m\u001b[0;34m\u001b[0m\u001b[0;34m\u001b[0m\u001b[0m\n\u001b[0m\u001b[1;32m      5\u001b[0m \u001b[0;32mimport\u001b[0m \u001b[0mcode_for_cardiac_mri_analysis\u001b[0m\u001b[0;34m.\u001b[0m\u001b[0munet\u001b[0m\u001b[0;34m\u001b[0m\u001b[0;34m\u001b[0m\u001b[0m\n\u001b[1;32m      6\u001b[0m \u001b[0;32mimport\u001b[0m \u001b[0mcode_for_cardiac_mri_analysis\u001b[0m\u001b[0;34m.\u001b[0m\u001b[0mreduce_with_pca\u001b[0m\u001b[0;34m\u001b[0m\u001b[0;34m\u001b[0m\u001b[0m\n",
      "\u001b[0;32m~/Studies/PhD_UCD/notebooks/code_for_cardiac_mri_analysis/collect_activations.py\u001b[0m in \u001b[0;36m<module>\u001b[0;34m\u001b[0m\n\u001b[1;32m      1\u001b[0m \u001b[0;32mimport\u001b[0m \u001b[0mtorch\u001b[0m\u001b[0;34m\u001b[0m\u001b[0;34m\u001b[0m\u001b[0m\n\u001b[1;32m      2\u001b[0m \u001b[0;32mimport\u001b[0m \u001b[0mnumpy\u001b[0m \u001b[0;32mas\u001b[0m \u001b[0mnp\u001b[0m\u001b[0;34m\u001b[0m\u001b[0;34m\u001b[0m\u001b[0m\n\u001b[0;32m----> 3\u001b[0;31m \u001b[0;32mfrom\u001b[0m \u001b[0mpreprocessing\u001b[0m \u001b[0;32mimport\u001b[0m \u001b[0mload_dataset\u001b[0m\u001b[0;34m,\u001b[0m \u001b[0mload_concepts_dataset\u001b[0m\u001b[0;34m\u001b[0m\u001b[0;34m\u001b[0m\u001b[0m\n\u001b[0m\u001b[1;32m      4\u001b[0m \u001b[0;32mfrom\u001b[0m \u001b[0mtrain_unet\u001b[0m \u001b[0;32mimport\u001b[0m \u001b[0mcreate_data_gen_eval\u001b[0m\u001b[0;34m,\u001b[0m \u001b[0mcreate_data_gen_concepts\u001b[0m\u001b[0;34m,\u001b[0m \u001b[0mget_split\u001b[0m\u001b[0;34m\u001b[0m\u001b[0;34m\u001b[0m\u001b[0m\n\u001b[1;32m      5\u001b[0m \u001b[0;32mfrom\u001b[0m \u001b[0mtorch\u001b[0m\u001b[0;34m.\u001b[0m\u001b[0mautograd\u001b[0m \u001b[0;32mimport\u001b[0m \u001b[0mVariable\u001b[0m\u001b[0;34m\u001b[0m\u001b[0;34m\u001b[0m\u001b[0m\n",
      "\u001b[0;31mImportError\u001b[0m: cannot import name 'load_concepts_dataset'"
     ]
    }
   ],
   "source": [
    "import code_for_cardiac_mri_analysis.preprocessing\n",
    "import code_for_cardiac_mri_analysis.loss\n",
    "import code_for_cardiac_mri_analysis.train_unet\n",
    "import code_for_cardiac_mri_analysis.collect_activations\n",
    "import code_for_cardiac_mri_analysis.unet\n",
    "import code_for_cardiac_mri_analysis.reduce_with_pca\n",
    "import code_for_cardiac_mri_analysis.create_concepts"
   ]
  },
  {
   "cell_type": "code",
   "execution_count": null,
   "metadata": {},
   "outputs": [],
   "source": []
  }
 ],
 "metadata": {
  "kernelspec": {
   "display_name": "Python 3",
   "language": "python",
   "name": "python3"
  },
  "language_info": {
   "codemirror_mode": {
    "name": "ipython",
    "version": 3
   },
   "file_extension": ".py",
   "mimetype": "text/x-python",
   "name": "python",
   "nbconvert_exporter": "python",
   "pygments_lexer": "ipython3",
   "version": "3.6.7"
  }
 },
 "nbformat": 4,
 "nbformat_minor": 2
}
