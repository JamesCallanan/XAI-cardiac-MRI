{
 "cells": [
  {
   "cell_type": "markdown",
   "metadata": {},
   "source": [
    "TODO:\n",
    "\n",
    "Discover concepts data:\n",
    "- sample data from different diseases\n",
    "- do SLIC on the above data\n",
    "- resize data for the network input\n",
    "- collect activations for these resized data along with info on the label/patient id\n",
    "- do IPCA on activations\n",
    "- cluster the activations\n",
    "\n",
    "Get concepts:\n",
    "\n",
    "PRECONDITION: COLLECT ACTIVATIONS\n",
    "- get the activations for found concepts in its raw form\n",
    "- create random counterpart from the whole concepts data\n",
    "- train binary classifier between the two\n",
    "- take orthogonal vector as the CAV\n",
    "\n",
    "Test concepts for the classes:\n",
    "\n",
    "PRECONDITION: COLLECT ACTIVATIONS AND GRADIENTS\n",
    "- collect activations for classes and gradients of their logits (gradient with respect to the activations)\n",
    "- calculate the directional derivative for all of the classes\n",
    "- calculate the statistical significance of the TCAV score\n",
    "\n",
    "Interpret concepts from the latent space:\n",
    "- review all the clusters"
   ]
  },
  {
   "cell_type": "markdown",
   "metadata": {},
   "source": [
    "### ACTIVATIONS COLLECTION\n",
    "\n",
    "- concepts data (activations, patch_id, patient_id)\n",
    "- classes (activations, gradients, patient_id)"
   ]
  },
  {
   "cell_type": "code",
   "execution_count": 2,
   "metadata": {},
   "outputs": [],
   "source": [
    "from preprocessing import load_dataset\n",
    "import numpy as np\n",
    "import pandas as pd\n",
    "from skimage.segmentation import slic\n",
    "from skimage.segmentation import mark_boundaries\n",
    "from skimage.util import img_as_float\n",
    "from skimage import io\n",
    "import matplotlib.pyplot as plt\n",
    "from skimage.transform import resize"
   ]
  },
  {
   "cell_type": "code",
   "execution_count": 7,
   "metadata": {},
   "outputs": [],
   "source": [
    "def get_masks(tab):\n",
    "    classes = set(tab.flatten())\n",
    "    masks = [np.zeros(np.shape(tab))]*len(classes)\n",
    "\n",
    "    for i, cls in enumerate(classes):\n",
    "        masks[i] = (tab == cls).astype(int) \n",
    "    return masks\n",
    "\n",
    "# https://codereview.stackexchange.com/questions/132914/crop-black-border-of-image-using-numpy\n",
    "def crop_image(img,tol=0):\n",
    "    # img is 2D image data\n",
    "    # tol  is tolerance\n",
    "    mask = img>tol\n",
    "    return img[np.ix_(mask.any(1),mask.any(0))]\n",
    "\n",
    "def resize_img(img, new_shape, order=3):\n",
    "    return resize(img, new_shape, order=order, mode='edge')\n",
    "\n",
    "def create_discovery_data(numSegments_list=30, concepts_ratio=0.2):\n",
    "    \"\"\"Function that creates discovery dataset for DTCAV method\n",
    "       it takes equal sample from classes (pathologies) and does SLIC to every \n",
    "       data point then crop it and rescale to network input size\n",
    "       \n",
    "       Args:\n",
    "           - numSegments_list -> list that contains sizes of segments \n",
    "             that are to be discovered\n",
    "           - concepts_ratio   -> ratio that defines the amount of \n",
    "             samples considered for creating the dataset\n",
    "             \n",
    "        Returns:\n",
    "           - output_data -> dictionary of all concept images found, \n",
    "             data - contains images, patient_ids - contains patient ids,\n",
    "             pathologies contains list with pathologies corresponding to sample\n",
    "           \n",
    "        \"\"\"\n",
    "    \n",
    "    if type(numSegments_list) is int:\n",
    "        numSegments_list = [numSegments_list]\n",
    "    \n",
    "    data = load_dataset()\n",
    "    pathologies = set([data[x]['pathology'] for x in data])\n",
    "    dcm = [x for x in data if data[x]['pathology'] == 'DCM']\n",
    "    hcm = [x for x in data if data[x]['pathology'] == 'HCM']\n",
    "    minf = [x for x in data if data[x]['pathology'] == 'MINF']\n",
    "    nor = [x for x in data if data[x]['pathology'] == 'NOR']\n",
    "    rv = [x for x in data if data[x]['pathology'] == 'RV']\n",
    "\n",
    "    paths = [dcm, hcm, minf, nor, rv]\n",
    "    types = [\"DCM\", \"HCM\", \"MINF\", \"NOR\", \"RV\"]\n",
    "    sample = []\n",
    "    sample_type = []\n",
    "    all_samples = len(data)\n",
    "    output_data = []            \n",
    "    \n",
    "    while len(sample)/all_samples <= concepts_ratio:\n",
    "        print(len(sample)/all_samples)\n",
    "        for i, x in enumerate(paths):\n",
    "            smpl = np.random.choice(x)\n",
    "            sample.append(smpl)\n",
    "            sample_type.append(types[i])\n",
    "            print(len(sample)/all_samples)\n",
    "\n",
    "            for typ in ['ed_data', 'es_data']:\n",
    "                for slice_ in data[smpl][typ]:\n",
    "                    image = img_as_float(slice_.astype(float))\n",
    "                    # we can do different levels of superpixels\n",
    "                    for i, numSegments in enumerate(numSegments_list):\n",
    "                        segments = slic(image, compactness=0.1, n_segments=numSegments, sigma = 5)\n",
    "                        masks = get_masks(segments)\n",
    "\n",
    "                        # probably for every superpixel found\n",
    "                        for supix in masks:\n",
    "                            im = crop_image(supix)\n",
    "                            output_data.append(resize_img(im, (348,348)))\n",
    "            np.save('patient{}_patches_{}segments_{}_path_{}'.format(sample[-1], numSegments,i,types[i]), output_data[-1])                      \n",
    "\n",
    "    return {'data':output_data, 'patients_ids':sample, 'pathologies':sample_type}"
   ]
  },
  {
   "cell_type": "code",
   "execution_count": 8,
   "metadata": {},
   "outputs": [
    {
     "name": "stdout",
     "output_type": "stream",
     "text": [
      "0.0\n",
      "0.01\n",
      "0.02\n",
      "0.03\n",
      "0.04\n",
      "0.05\n",
      "0.05\n",
      "0.06\n",
      "0.07\n",
      "0.08\n",
      "0.09\n",
      "0.1\n",
      "0.1\n",
      "0.11\n",
      "0.12\n",
      "0.13\n",
      "0.14\n",
      "0.15\n",
      "0.15\n",
      "0.16\n",
      "0.17\n",
      "0.18\n",
      "0.19\n",
      "0.2\n",
      "0.2\n",
      "0.21\n",
      "0.22\n",
      "0.23\n",
      "0.24\n",
      "0.25\n"
     ]
    }
   ],
   "source": [
    "out = create_discovery_data()"
   ]
  },
  {
   "cell_type": "code",
   "execution_count": null,
   "metadata": {},
   "outputs": [],
   "source": []
  },
  {
   "cell_type": "code",
   "execution_count": 18,
   "metadata": {},
   "outputs": [
    {
     "data": {
      "text/plain": [
       "9912"
      ]
     },
     "execution_count": 18,
     "metadata": {},
     "output_type": "execute_result"
    }
   ],
   "source": [
    "len(out['data'])"
   ]
  },
  {
   "cell_type": "code",
   "execution_count": null,
   "metadata": {},
   "outputs": [],
   "source": []
  },
  {
   "cell_type": "code",
   "execution_count": 2,
   "metadata": {},
   "outputs": [],
   "source": [
    "data = load_dataset()"
   ]
  },
  {
   "cell_type": "code",
   "execution_count": 15,
   "metadata": {},
   "outputs": [
    {
     "data": {
      "text/plain": [
       "dict_keys(['height', 'weight', 'pathology', 'ed_data', 'ed_gt', 'es_data', 'es_gt'])"
      ]
     },
     "execution_count": 15,
     "metadata": {},
     "output_type": "execute_result"
    }
   ],
   "source": [
    "data[1].keys()"
   ]
  },
  {
   "cell_type": "code",
   "execution_count": 6,
   "metadata": {},
   "outputs": [],
   "source": [
    "pathologies = set([data[x]['pathology'] for x in data])"
   ]
  },
  {
   "cell_type": "code",
   "execution_count": 7,
   "metadata": {},
   "outputs": [
    {
     "data": {
      "text/plain": [
       "{'DCM', 'HCM', 'MINF', 'NOR', 'RV'}"
      ]
     },
     "execution_count": 7,
     "metadata": {},
     "output_type": "execute_result"
    }
   ],
   "source": [
    "pathologies"
   ]
  },
  {
   "cell_type": "code",
   "execution_count": 12,
   "metadata": {},
   "outputs": [],
   "source": [
    "\n",
    "\n",
    "dcm = [x for x in data if data[x]['pathology'] == 'DCM']\n",
    "hcm = [x for x in data if data[x]['pathology'] == 'HCM']\n",
    "minf = [x for x in data if data[x]['pathology'] == 'MINF']\n",
    "nor = [x for x in data if data[x]['pathology'] == 'NOR']\n",
    "rv = [x for x in data if data[x]['pathology'] == 'RV']\n",
    "\n",
    "paths = [dcm, hcm, minf, nor, rv]"
   ]
  },
  {
   "cell_type": "code",
   "execution_count": 28,
   "metadata": {},
   "outputs": [
    {
     "name": "stdout",
     "output_type": "stream",
     "text": [
      "[[ 0  0  0 ...  0  0  0]\n",
      " [ 0  0  0 ...  0  0  0]\n",
      " [ 0  0  0 ...  0  0  0]\n",
      " ...\n",
      " [18 18 18 ... 17 17 17]\n",
      " [18 18 18 ... 17 17 17]\n",
      " [18 18 18 ... 17 17 17]]\n"
     ]
    }
   ],
   "source": [
    "\n",
    "\n",
    "for x in paths:\n",
    "    sample = np.random.choice(x)\n",
    "image = img_as_float(data[sample]['ed_data'][0].astype(float))\n",
    " \n",
    "#for i, numSegments in enumerate((10, 50, 70, 100, 200, 300)):\n",
    "numSegments = 30\n",
    "segments = slic(image, compactness=0.1, n_segments = numSegments, sigma = 5)\n",
    "print(segments)"
   ]
  },
  {
   "cell_type": "code",
   "execution_count": 29,
   "metadata": {},
   "outputs": [
    {
     "data": {
      "text/plain": [
       "(204, 296)"
      ]
     },
     "execution_count": 29,
     "metadata": {},
     "output_type": "execute_result"
    }
   ],
   "source": [
    "np.shape(segments)"
   ]
  },
  {
   "cell_type": "code",
   "execution_count": 30,
   "metadata": {},
   "outputs": [
    {
     "data": {
      "image/png": "[encoded data removed]",
      "text/plain": [
       "<Figure size 432x288 with 1 Axes>"
      ]
     },
     "metadata": {
      "needs_background": "light"
     },
     "output_type": "display_data"
    }
   ],
   "source": [
    "plt.imshow(segments)\n",
    "plt.show()"
   ]
  },
  {
   "cell_type": "code",
   "execution_count": 45,
   "metadata": {},
   "outputs": [],
   "source": []
  },
  {
   "cell_type": "code",
   "execution_count": 83,
   "metadata": {},
   "outputs": [],
   "source": []
  },
  {
   "cell_type": "code",
   "execution_count": 84,
   "metadata": {},
   "outputs": [
    {
     "data": {
      "image/png": "[encoded data removed]",
      "text/plain": [
       "<Figure size 432x288 with 1 Axes>"
      ]
     },
     "metadata": {
      "needs_background": "light"
     },
     "output_type": "display_data"
    }
   ],
   "source": [
    "\n",
    "masks = get_masks(segments)\n",
    "im = crop_image(masks[9])\n",
    "im2 = resize(im, (348,348))\n",
    "plt.imshow(im2)\n",
    "plt.show()"
   ]
  },
  {
   "cell_type": "code",
   "execution_count": 62,
   "metadata": {},
   "outputs": [
    {
     "data": {
      "image/png": "[encoded data removed]",
      "text/plain": [
       "<Figure size 432x288 with 1 Axes>"
      ]
     },
     "metadata": {
      "needs_background": "light"
     },
     "output_type": "display_data"
    }
   ],
   "source": [
    "plt.imshow(masks[9])\n",
    "plt.show()"
   ]
  },
  {
   "cell_type": "code",
   "execution_count": 63,
   "metadata": {},
   "outputs": [],
   "source": []
  },
  {
   "cell_type": "code",
   "execution_count": 69,
   "metadata": {},
   "outputs": [
    {
     "data": {
      "image/png": "[encoded data removed]",
      "text/plain": [
       "<Figure size 432x288 with 1 Axes>"
      ]
     },
     "metadata": {
      "needs_background": "light"
     },
     "output_type": "display_data"
    }
   ],
   "source": [
    "im = crop_image(masks[4])\n",
    "plt.imshow(im)\n",
    "plt.show()"
   ]
  },
  {
   "cell_type": "code",
   "execution_count": null,
   "metadata": {},
   "outputs": [],
   "source": []
  }
 ],
 "metadata": {
  "kernelspec": {
   "display_name": "Python 3",
   "language": "python",
   "name": "python3"
  },
  "language_info": {
   "codemirror_mode": {
    "name": "ipython",
    "version": 3
   },
   "file_extension": ".py",
   "mimetype": "text/x-python",
   "name": "python",
   "nbconvert_exporter": "python",
   "pygments_lexer": "ipython3",
   "version": "3.5.2"
  }
 },
 "nbformat": 4,
 "nbformat_minor": 2
}
